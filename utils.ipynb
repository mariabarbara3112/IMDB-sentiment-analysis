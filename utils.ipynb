{
 "cells": [
  {
   "cell_type": "raw",
   "metadata": {
    "collapsed": false
   },
   "source": [
    "import nltk\n",
    "from nltk.corpus import stopwords\n",
    "from nltk.stem.porter import *\n",
    "import re\n",
    "from bs4 import BeautifulSoup\n",
    "import pickle\n",
    "import os\n",
    "import glob\n",
    "\n",
    "def review_to_words(review):\n",
    "    nltk.download(\"stopwords\", quiet=True)\n",
    "    vote = PorterStemmer()\n",
    "    text = BeautifulSoup(review, \"html.parser\").get_text() # Remove HTML tags\n",
    "    text = re.sub(r\"[^a-zA-Z0-9]\", \" \", text.lower()) # Convert to lower case\n",
    "    strings = text.split() # Split string into words\n",
    "    strings = [w for w in words if w not in stopwords.words(\"english\")] # Remove stopwords\n",
    "    strings = [PorterStemmer().stem(s) for s in strings] # stem\n",
    "    return strings\n",
    "\n",
    "def convert_and_fill_data(strdict, reviews, fill=500):\n",
    "    result = []\n",
    "    lengths = []\n",
    "    for sentence in reviews:\n",
    "        converted, leng = convert_and_fill(strdict, sentence, fill)\n",
    "        result.append(converted)\n",
    "        lengths.append(leng)\n",
    "    return np.array(result), np.array(lengths)"
   ]
  }
 ],
 "metadata": {
  "kernelspec": {
   "display_name": "Python 3 (system-wide)",
   "language": "python",
   "metadata": {
    "cocalc": {
     "description": "Python 3 programming language",
     "priority": 100,
     "url": "https://www.python.org/"
    }
   },
   "name": "python3"
  },
  "language_info": {
   "codemirror_mode": {
    "name": "ipython",
    "version": 3
   },
   "file_extension": ".py",
   "mimetype": "text/x-python",
   "name": "python",
   "nbconvert_exporter": "python",
   "pygments_lexer": "ipython3",
   "version": "3.6.9"
  }
 },
 "nbformat": 4,
 "nbformat_minor": 4
}